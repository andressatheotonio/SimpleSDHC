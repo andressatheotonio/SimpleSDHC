{
  "nbformat": 4,
  "nbformat_minor": 0,
  "metadata": {
    "colab": {
      "name": "EuropaSuicides_LinearRegression.ipynb",
      "version": "0.3.2",
      "provenance": [],
      "collapsed_sections": [],
      "include_colab_link": true
    },
    "kernelspec": {
      "name": "python3",
      "display_name": "Python 3"
    }
  },
  "cells": [
    {
      "cell_type": "markdown",
      "metadata": {
        "id": "view-in-github",
        "colab_type": "text"
      },
      "source": [
        "<a href=\"https://colab.research.google.com/github/andressatheotonio/SimpleSDHC/blob/master/EuropaSuicides_LinearRegression.ipynb\" target=\"_parent\"><img src=\"https://colab.research.google.com/assets/colab-badge.svg\" alt=\"Open In Colab\"/></a>"
      ]
    },
    {
      "cell_type": "code",
      "metadata": {
        "id": "FVFP66PHwupV",
        "colab_type": "code",
        "colab": {}
      },
      "source": [
        "#Importando bibliotecas\n",
        "\n",
        "import matplotlib.pyplot as plot\n",
        "import pandas as pd\n",
        "import numpy as np\n",
        "import seaborn as sns\n",
        "from sklearn import metrics\n",
        "from sklearn.model_selection import train_test_split\n",
        "from sklearn.linear_model import LinearRegression"
      ],
      "execution_count": 0,
      "outputs": []
    },
    {
      "cell_type": "code",
      "metadata": {
        "id": "3EFohB47HGHx",
        "colab_type": "code",
        "colab": {}
      },
      "source": [
        "#Importando arquivos e exibindo dataframe\n",
        "\n",
        "europa = pd.read_csv(\"europa2015.csv\", sep=\",\")\n",
        "\n",
        "europa"
      ],
      "execution_count": 0,
      "outputs": []
    },
    {
      "cell_type": "code",
      "metadata": {
        "id": "-S4M1D1eHTg5",
        "colab_type": "code",
        "colab": {}
      },
      "source": [
        "#Estatístics Descritivas do Dataframe\n",
        "\n",
        "europa.describe().round(2)"
      ],
      "execution_count": 0,
      "outputs": []
    },
    {
      "cell_type": "code",
      "metadata": {
        "id": "mBAH-zEf5IkI",
        "colab_type": "code",
        "colab": {}
      },
      "source": [
        "#Distribuição de frequência da variável dependente (Suicídios)\n",
        "\n",
        "sx = sns.distplot(europa['Male Suicides'])\n",
        "sx.figure.set_size_inches(12,5)"
      ],
      "execution_count": 0,
      "outputs": []
    },
    {
      "cell_type": "code",
      "metadata": {
        "id": "X8gRWj2QHz6M",
        "colab_type": "code",
        "colab": {}
      },
      "source": [
        "#Matriz de Correlação\n",
        "\n",
        "europa.corr().round(2)"
      ],
      "execution_count": 0,
      "outputs": []
    },
    {
      "cell_type": "code",
      "metadata": {
        "id": "4_bci4mdNf8n",
        "colab_type": "code",
        "colab": {}
      },
      "source": [
        "#Visualizando as Relações\n",
        "\n",
        "plot.figure(figsize=(12,6))\n",
        "plot.plot(europa['Divorce Index'],europa['Male Suicides'], 'o')\n",
        "plot.xlabel('Taxa de Divórcios a cada 1000 hab')\n",
        "plot.ylabel('Suicídios a cada 100.000 hab (M)')\n",
        "plot.show()"
      ],
      "execution_count": 0,
      "outputs": []
    },
    {
      "cell_type": "code",
      "metadata": {
        "id": "5e_l2nCEODD3",
        "colab_type": "code",
        "colab": {}
      },
      "source": [
        "#Relacionando duas variáveis\n",
        "\n",
        "def coeficientes(x,y):\n",
        "  mat = x.shape[0]\n",
        "  \n",
        "  soma_x = np.sum(x)\n",
        "  soma_x2 = np.sum(x**2)\n",
        "  \n",
        "  soma_y = np.sum(y)\n",
        "  soma_y2 = np.sum(y**2)\n",
        "  \n",
        "  soma_xy = np.sum(x*y)\n",
        "  \n",
        "  return np.linalg.solve([[mat,soma_x],[soma_xy,soma_x2]],[soma_y,soma_xy])"
      ],
      "execution_count": 0,
      "outputs": []
    },
    {
      "cell_type": "code",
      "metadata": {
        "id": "dnrnIfFySEGK",
        "colab_type": "code",
        "colab": {}
      },
      "source": [
        "#Relacionando a Taxa de Divórcios com a Taxa de Suicídios (M)\n",
        "\n",
        "a1,b1 = coeficientes(europa['Divorce Index'],europa['Male Suicides'])\n",
        "div = np.linspace(0,5,10)\n",
        "\n",
        "y = a + b*div\n",
        "\n",
        "plot.figure(figsize=(12,6))\n",
        "plot.plot(div,y)\n",
        "plot.plot(europa['Divorce Index'], europa['Male Suicides'], 'o')\n",
        "plot.xlabel('Taxa de Divórcio a cada 1000 hab')\n",
        "plot.ylabel('Taxa de Suicídios a cada 100.000 hab (M)')\n",
        "plot.show()"
      ],
      "execution_count": 0,
      "outputs": []
    },
    {
      "cell_type": "code",
      "metadata": {
        "id": "Td_0UKsLYl0y",
        "colab_type": "code",
        "colab": {}
      },
      "source": [
        "#Função que recebe Taxa de Divórcios e prediz Taxa de Suícidios (M)\n",
        "\n",
        "def SuicideDivorce(divorce_rate):\n",
        "  return a+b*divorce_rate\n",
        "\n",
        "SuicideDivorce(2).round(2)"
      ],
      "execution_count": 0,
      "outputs": []
    },
    {
      "cell_type": "code",
      "metadata": {
        "id": "TTPtJ1Tnblzi",
        "colab_type": "code",
        "colab": {}
      },
      "source": [
        "#Score de previsão do modelo\n",
        "\n",
        "taxa_prevista = SuicideDivorce(europa['Divorce Index'])\n",
        "metrics.r2_score(europa['Male Suicides'],taxa_prevista).round(4)"
      ],
      "execution_count": 0,
      "outputs": []
    },
    {
      "cell_type": "code",
      "metadata": {
        "id": "JQLS79YwYPjN",
        "colab_type": "code",
        "colab": {}
      },
      "source": [
        "#Relacionando a Taxa de Transtornos Provocados por Consumo de Drogas com a Taxa de Suicídios (M)\n",
        "\n",
        "a2,b2 = coeficientes(europa['Drugs Rate'], europa['Male Suicides'])\n",
        "drugs = np.linspace(0,700,100)\n",
        "\n",
        "tx = a2 + b2*drugs\n",
        "\n",
        "plot.figure(figsize=(12,6))\n",
        "plot.plot(drugs,tx)\n",
        "plot.plot(europa['Drugs Rate'], europa['Male Suicides'], 'o')\n",
        "plot.xlabel('Transtornos pelo uso de drogas a cada 100.000 hab')\n",
        "plot.ylabel('Taxa de Suicídios a cada 100.000 hab (M)')\n",
        "plot.show()"
      ],
      "execution_count": 0,
      "outputs": []
    },
    {
      "cell_type": "code",
      "metadata": {
        "id": "Ja-qg9pPZ_NZ",
        "colab_type": "code",
        "colab": {}
      },
      "source": [
        "#Função que recebe a 'Drugs Rate' e prediz a taxa de Suicídios (M)\n",
        "\n",
        "def SuicideDrugs(drugs):\n",
        "  return a2+b2*drugs"
      ],
      "execution_count": 0,
      "outputs": []
    },
    {
      "cell_type": "code",
      "metadata": {
        "id": "t88Ma7Hpad1Z",
        "colab_type": "code",
        "colab": {}
      },
      "source": [
        "#Score de previsão do modelo\n",
        "\n",
        "tx_previsto = SuicideDrugs(europa['Drugs Rate'])\n",
        "metrics.r2_score(europa['Male Suicides'], tx_previsto)"
      ],
      "execution_count": 0,
      "outputs": []
    },
    {
      "cell_type": "code",
      "metadata": {
        "id": "lRGCcEqRdemr",
        "colab_type": "code",
        "colab": {}
      },
      "source": [
        "#Série para armazenar a Taxa de Suicídios (M)\n",
        "\n",
        "Y =  europa['Male Suicides']\n",
        "\n",
        "#DataFrame para as variáveis a relacionar\n",
        "\n",
        "X = europa[['HDI', 'Education Index', 'Divorce Index', 'Drugs Rate']]\n",
        "\n",
        "#Separando dataset de treino e teste\n",
        "\n",
        "X_train,X_test, Y_train, Y_test = train_test_split(X,Y,test_size=0.4, random_state = 37)\n"
      ],
      "execution_count": 0,
      "outputs": []
    },
    {
      "cell_type": "code",
      "metadata": {
        "id": "XNqbww3Fezmi",
        "colab_type": "code",
        "colab": {
          "base_uri": "https://localhost:8080/",
          "height": 34
        },
        "outputId": "d47f4484-399f-4c14-f9b3-278290062802"
      },
      "source": [
        "#Treinando\n",
        "\n",
        "model = LinearRegression()\n",
        "\n",
        "model.fit(X_train, Y_train)\n",
        "\n",
        "#Score do treino\n",
        "\n",
        "model.score(X_train, Y_train)"
      ],
      "execution_count": 82,
      "outputs": [
        {
          "output_type": "execute_result",
          "data": {
            "text/plain": [
              "0.6397218372848041"
            ]
          },
          "metadata": {
            "tags": []
          },
          "execution_count": 82
        }
      ]
    },
    {
      "cell_type": "code",
      "metadata": {
        "id": "n3hTJ6Tvgs42",
        "colab_type": "code",
        "colab": {
          "base_uri": "https://localhost:8080/",
          "height": 34
        },
        "outputId": "f230bafa-c00b-4cf5-b51a-c10330d3d130"
      },
      "source": [
        "#Efeito Médio na Taxa de Suicídio quando as variáveis são zeradas\n",
        "\n",
        "model.intercept_.round(2)"
      ],
      "execution_count": 83,
      "outputs": [
        {
          "output_type": "execute_result",
          "data": {
            "text/plain": [
              "-39.6"
            ]
          },
          "metadata": {
            "tags": []
          },
          "execution_count": 83
        }
      ]
    },
    {
      "cell_type": "code",
      "metadata": {
        "id": "RmUb-kyChNK5",
        "colab_type": "code",
        "colab": {
          "base_uri": "https://localhost:8080/",
          "height": 34
        },
        "outputId": "fadd912c-bc79-4d25-9334-f04045ee3907"
      },
      "source": [
        "#Analisando os Coeficientes de Regressão\n",
        "\n",
        "model.coef_.round(2)"
      ],
      "execution_count": 85,
      "outputs": [
        {
          "output_type": "execute_result",
          "data": {
            "text/plain": [
              "array([-0.09,  0.15,  6.55, -0.01])"
            ]
          },
          "metadata": {
            "tags": []
          },
          "execution_count": 85
        }
      ]
    }
  ]
}